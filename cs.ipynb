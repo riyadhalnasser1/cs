{
 "cells": [
  {
   "cell_type": "markdown",
   "metadata": {},
   "source": [
    "## Q1: "
   ]
  },
  {
   "cell_type": "markdown",
   "metadata": {},
   "source": [
    "First, the libraries that will allow us to read and manipulate the data are imported"
   ]
  },
  {
   "cell_type": "code",
   "execution_count": 1,
   "metadata": {},
   "outputs": [],
   "source": [
    "import pandas as pd\n",
    "import matplotlib.pyplot as plt\n",
    "%matplotlib inline  \n"
   ]
  },
  {
   "cell_type": "markdown",
   "metadata": {},
   "source": [
    "Now we read the data files: Expense Amount Data.csv and Expense Data.csv (Assuming they are in the same directory)"
   ]
  },
  {
   "cell_type": "code",
   "execution_count": 2,
   "metadata": {},
   "outputs": [],
   "source": [
    "Expense_Amount_Data=pd.read_csv('Expense Amount Data.csv')\n",
    "Expense_Data=pd.read_csv('Expense Data.csv')"
   ]
  },
  {
   "cell_type": "code",
   "execution_count": 3,
   "metadata": {},
   "outputs": [
    {
     "data": {
      "text/html": [
       "<div>\n",
       "<style scoped>\n",
       "    .dataframe tbody tr th:only-of-type {\n",
       "        vertical-align: middle;\n",
       "    }\n",
       "\n",
       "    .dataframe tbody tr th {\n",
       "        vertical-align: top;\n",
       "    }\n",
       "\n",
       "    .dataframe thead th {\n",
       "        text-align: right;\n",
       "    }\n",
       "</style>\n",
       "<table border=\"1\" class=\"dataframe\">\n",
       "  <thead>\n",
       "    <tr style=\"text-align: right;\">\n",
       "      <th></th>\n",
       "      <th>Expense Code,Expense Amount (SAR)</th>\n",
       "    </tr>\n",
       "  </thead>\n",
       "  <tbody>\n",
       "    <tr>\n",
       "      <th>0</th>\n",
       "      <td>10532,4.46</td>\n",
       "    </tr>\n",
       "    <tr>\n",
       "      <th>1</th>\n",
       "      <td>10640,6.84</td>\n",
       "    </tr>\n",
       "    <tr>\n",
       "      <th>2</th>\n",
       "      <td>11053,0.36</td>\n",
       "    </tr>\n",
       "    <tr>\n",
       "      <th>3</th>\n",
       "      <td>11291,2.47</td>\n",
       "    </tr>\n",
       "    <tr>\n",
       "      <th>4</th>\n",
       "      <td>11436,1.7</td>\n",
       "    </tr>\n",
       "  </tbody>\n",
       "</table>\n",
       "</div>"
      ],
      "text/plain": [
       "  Expense Code,Expense Amount (SAR)\n",
       "0                        10532,4.46\n",
       "1                        10640,6.84\n",
       "2                        11053,0.36\n",
       "3                        11291,2.47\n",
       "4                         11436,1.7"
      ]
     },
     "execution_count": 3,
     "metadata": {},
     "output_type": "execute_result"
    }
   ],
   "source": [
    "Expense_Amount_Data.head()"
   ]
  },
  {
   "cell_type": "code",
   "execution_count": 4,
   "metadata": {},
   "outputs": [
    {
     "data": {
      "text/html": [
       "<div>\n",
       "<style scoped>\n",
       "    .dataframe tbody tr th:only-of-type {\n",
       "        vertical-align: middle;\n",
       "    }\n",
       "\n",
       "    .dataframe tbody tr th {\n",
       "        vertical-align: top;\n",
       "    }\n",
       "\n",
       "    .dataframe thead th {\n",
       "        text-align: right;\n",
       "    }\n",
       "</style>\n",
       "<table border=\"1\" class=\"dataframe\">\n",
       "  <thead>\n",
       "    <tr style=\"text-align: right;\">\n",
       "      <th></th>\n",
       "      <th>Expense Code,Month,Expense Quantity,Government Entity</th>\n",
       "      <th>Unnamed: 1</th>\n",
       "    </tr>\n",
       "  </thead>\n",
       "  <tbody>\n",
       "    <tr>\n",
       "      <th>0</th>\n",
       "      <td>10003,42948,1530,Ministry of Education</td>\n",
       "      <td>NaN</td>\n",
       "    </tr>\n",
       "    <tr>\n",
       "      <th>1</th>\n",
       "      <td>10003,42979,3060,Ministry of Education</td>\n",
       "      <td>NaN</td>\n",
       "    </tr>\n",
       "    <tr>\n",
       "      <th>2</th>\n",
       "      <td>10007,42917,1792,Ministry of Health</td>\n",
       "      <td>NaN</td>\n",
       "    </tr>\n",
       "    <tr>\n",
       "      <th>3</th>\n",
       "      <td>10007,42979,2048,Ministry of Health</td>\n",
       "      <td>NaN</td>\n",
       "    </tr>\n",
       "    <tr>\n",
       "      <th>4</th>\n",
       "      <td>10007,43132,1024,Ministry of Health</td>\n",
       "      <td>NaN</td>\n",
       "    </tr>\n",
       "  </tbody>\n",
       "</table>\n",
       "</div>"
      ],
      "text/plain": [
       "  Expense Code,Month,Expense Quantity,Government Entity  Unnamed: 1\n",
       "0             10003,42948,1530,Ministry of Education            NaN\n",
       "1             10003,42979,3060,Ministry of Education            NaN\n",
       "2                10007,42917,1792,Ministry of Health            NaN\n",
       "3                10007,42979,2048,Ministry of Health            NaN\n",
       "4                10007,43132,1024,Ministry of Health            NaN"
      ]
     },
     "execution_count": 4,
     "metadata": {},
     "output_type": "execute_result"
    }
   ],
   "source": [
    "Expense_Data.head()"
   ]
  },
  {
   "cell_type": "markdown",
   "metadata": {},
   "source": [
    "We notice that all columns' values are merged in one column, so we do the following to fix that:"
   ]
  },
  {
   "cell_type": "code",
   "execution_count": 5,
   "metadata": {},
   "outputs": [],
   "source": [
    "Expense_Amount_Data['Expense Code']=Expense_Amount_Data['Expense Code,Expense Amount (SAR)'].apply(lambda x: x.split(',')[0])\n",
    "Expense_Amount_Data['Expense Amount (SAR)']=Expense_Amount_Data['Expense Code,Expense Amount (SAR)'].apply(lambda x: x.split(',')[1])"
   ]
  },
  {
   "cell_type": "code",
   "execution_count": 6,
   "metadata": {},
   "outputs": [],
   "source": [
    "Expense_Amount_Data=Expense_Amount_Data[['Expense Code','Expense Amount (SAR)']]"
   ]
  },
  {
   "cell_type": "code",
   "execution_count": 7,
   "metadata": {},
   "outputs": [],
   "source": [
    "Expense_Data['Expense Code']=Expense_Data['Expense Code,Month,Expense Quantity,Government Entity'].apply(lambda x: x.split(',')[0])\n",
    "Expense_Data['Month']=Expense_Data['Expense Code,Month,Expense Quantity,Government Entity'].apply(lambda x: x.split(',')[1])\n",
    "Expense_Data['Expense Quantity']=Expense_Data['Expense Code,Month,Expense Quantity,Government Entity'].apply(lambda x: x.split(',')[2])\n",
    "Expense_Data['Government Entity']=Expense_Data['Expense Code,Month,Expense Quantity,Government Entity'].apply(lambda x: x.split(',')[3])"
   ]
  },
  {
   "cell_type": "code",
   "execution_count": 8,
   "metadata": {},
   "outputs": [],
   "source": [
    "Expense_Data=Expense_Data[['Expense Code','Month','Expense Quantity','Government Entity']]"
   ]
  },
  {
   "cell_type": "code",
   "execution_count": 9,
   "metadata": {},
   "outputs": [
    {
     "data": {
      "text/html": [
       "<div>\n",
       "<style scoped>\n",
       "    .dataframe tbody tr th:only-of-type {\n",
       "        vertical-align: middle;\n",
       "    }\n",
       "\n",
       "    .dataframe tbody tr th {\n",
       "        vertical-align: top;\n",
       "    }\n",
       "\n",
       "    .dataframe thead th {\n",
       "        text-align: right;\n",
       "    }\n",
       "</style>\n",
       "<table border=\"1\" class=\"dataframe\">\n",
       "  <thead>\n",
       "    <tr style=\"text-align: right;\">\n",
       "      <th></th>\n",
       "      <th>Expense Code</th>\n",
       "      <th>Expense Amount (SAR)</th>\n",
       "    </tr>\n",
       "  </thead>\n",
       "  <tbody>\n",
       "    <tr>\n",
       "      <th>0</th>\n",
       "      <td>10532</td>\n",
       "      <td>4.46</td>\n",
       "    </tr>\n",
       "    <tr>\n",
       "      <th>1</th>\n",
       "      <td>10640</td>\n",
       "      <td>6.84</td>\n",
       "    </tr>\n",
       "    <tr>\n",
       "      <th>2</th>\n",
       "      <td>11053</td>\n",
       "      <td>0.36</td>\n",
       "    </tr>\n",
       "    <tr>\n",
       "      <th>3</th>\n",
       "      <td>11291</td>\n",
       "      <td>2.47</td>\n",
       "    </tr>\n",
       "    <tr>\n",
       "      <th>4</th>\n",
       "      <td>11436</td>\n",
       "      <td>1.7</td>\n",
       "    </tr>\n",
       "  </tbody>\n",
       "</table>\n",
       "</div>"
      ],
      "text/plain": [
       "  Expense Code Expense Amount (SAR)\n",
       "0        10532                 4.46\n",
       "1        10640                 6.84\n",
       "2        11053                 0.36\n",
       "3        11291                 2.47\n",
       "4        11436                  1.7"
      ]
     },
     "execution_count": 9,
     "metadata": {},
     "output_type": "execute_result"
    }
   ],
   "source": [
    "Expense_Amount_Data.head()"
   ]
  },
  {
   "cell_type": "code",
   "execution_count": 10,
   "metadata": {},
   "outputs": [
    {
     "data": {
      "text/html": [
       "<div>\n",
       "<style scoped>\n",
       "    .dataframe tbody tr th:only-of-type {\n",
       "        vertical-align: middle;\n",
       "    }\n",
       "\n",
       "    .dataframe tbody tr th {\n",
       "        vertical-align: top;\n",
       "    }\n",
       "\n",
       "    .dataframe thead th {\n",
       "        text-align: right;\n",
       "    }\n",
       "</style>\n",
       "<table border=\"1\" class=\"dataframe\">\n",
       "  <thead>\n",
       "    <tr style=\"text-align: right;\">\n",
       "      <th></th>\n",
       "      <th>Expense Code</th>\n",
       "      <th>Month</th>\n",
       "      <th>Expense Quantity</th>\n",
       "      <th>Government Entity</th>\n",
       "    </tr>\n",
       "  </thead>\n",
       "  <tbody>\n",
       "    <tr>\n",
       "      <th>0</th>\n",
       "      <td>10003</td>\n",
       "      <td>42948</td>\n",
       "      <td>1530</td>\n",
       "      <td>Ministry of Education</td>\n",
       "    </tr>\n",
       "    <tr>\n",
       "      <th>1</th>\n",
       "      <td>10003</td>\n",
       "      <td>42979</td>\n",
       "      <td>3060</td>\n",
       "      <td>Ministry of Education</td>\n",
       "    </tr>\n",
       "    <tr>\n",
       "      <th>2</th>\n",
       "      <td>10007</td>\n",
       "      <td>42917</td>\n",
       "      <td>1792</td>\n",
       "      <td>Ministry of Health</td>\n",
       "    </tr>\n",
       "    <tr>\n",
       "      <th>3</th>\n",
       "      <td>10007</td>\n",
       "      <td>42979</td>\n",
       "      <td>2048</td>\n",
       "      <td>Ministry of Health</td>\n",
       "    </tr>\n",
       "    <tr>\n",
       "      <th>4</th>\n",
       "      <td>10007</td>\n",
       "      <td>43132</td>\n",
       "      <td>1024</td>\n",
       "      <td>Ministry of Health</td>\n",
       "    </tr>\n",
       "  </tbody>\n",
       "</table>\n",
       "</div>"
      ],
      "text/plain": [
       "  Expense Code  Month Expense Quantity      Government Entity\n",
       "0        10003  42948             1530  Ministry of Education\n",
       "1        10003  42979             3060  Ministry of Education\n",
       "2        10007  42917             1792     Ministry of Health\n",
       "3        10007  42979             2048     Ministry of Health\n",
       "4        10007  43132             1024     Ministry of Health"
      ]
     },
     "execution_count": 10,
     "metadata": {},
     "output_type": "execute_result"
    }
   ],
   "source": [
    "Expense_Data.head()"
   ]
  },
  {
   "cell_type": "markdown",
   "metadata": {},
   "source": [
    "Now we join the two datasets to be able to perform the analysis (in order to have Expense Amount (SAR) and quantity in one table"
   ]
  },
  {
   "cell_type": "code",
   "execution_count": 11,
   "metadata": {},
   "outputs": [],
   "source": [
    "merged_data=Expense_Amount_Data.merge(Expense_Data, on='Expense Code')"
   ]
  },
  {
   "cell_type": "code",
   "execution_count": 12,
   "metadata": {},
   "outputs": [
    {
     "data": {
      "text/html": [
       "<div>\n",
       "<style scoped>\n",
       "    .dataframe tbody tr th:only-of-type {\n",
       "        vertical-align: middle;\n",
       "    }\n",
       "\n",
       "    .dataframe tbody tr th {\n",
       "        vertical-align: top;\n",
       "    }\n",
       "\n",
       "    .dataframe thead th {\n",
       "        text-align: right;\n",
       "    }\n",
       "</style>\n",
       "<table border=\"1\" class=\"dataframe\">\n",
       "  <thead>\n",
       "    <tr style=\"text-align: right;\">\n",
       "      <th></th>\n",
       "      <th>Expense Code</th>\n",
       "      <th>Expense Amount (SAR)</th>\n",
       "      <th>Month</th>\n",
       "      <th>Expense Quantity</th>\n",
       "      <th>Government Entity</th>\n",
       "    </tr>\n",
       "  </thead>\n",
       "  <tbody>\n",
       "    <tr>\n",
       "      <th>0</th>\n",
       "      <td>10532</td>\n",
       "      <td>4.46</td>\n",
       "      <td>42826</td>\n",
       "      <td>15216</td>\n",
       "      <td>Ministry of Housing</td>\n",
       "    </tr>\n",
       "    <tr>\n",
       "      <th>1</th>\n",
       "      <td>10532</td>\n",
       "      <td>4.46</td>\n",
       "      <td>42887</td>\n",
       "      <td>5706</td>\n",
       "      <td>Ministry of Housing</td>\n",
       "    </tr>\n",
       "    <tr>\n",
       "      <th>2</th>\n",
       "      <td>10532</td>\n",
       "      <td>4.46</td>\n",
       "      <td>43070</td>\n",
       "      <td>6340</td>\n",
       "      <td>Ministry of Housing</td>\n",
       "    </tr>\n",
       "    <tr>\n",
       "      <th>3</th>\n",
       "      <td>10532</td>\n",
       "      <td>4.46</td>\n",
       "      <td>43009</td>\n",
       "      <td>13314</td>\n",
       "      <td>Ministry of Housing</td>\n",
       "    </tr>\n",
       "    <tr>\n",
       "      <th>4</th>\n",
       "      <td>10532</td>\n",
       "      <td>4.46</td>\n",
       "      <td>43191</td>\n",
       "      <td>5072</td>\n",
       "      <td>Ministry of Housing</td>\n",
       "    </tr>\n",
       "  </tbody>\n",
       "</table>\n",
       "</div>"
      ],
      "text/plain": [
       "  Expense Code Expense Amount (SAR)  Month Expense Quantity  \\\n",
       "0        10532                 4.46  42826            15216   \n",
       "1        10532                 4.46  42887             5706   \n",
       "2        10532                 4.46  43070             6340   \n",
       "3        10532                 4.46  43009            13314   \n",
       "4        10532                 4.46  43191             5072   \n",
       "\n",
       "     Government Entity  \n",
       "0  Ministry of Housing  \n",
       "1  Ministry of Housing  \n",
       "2  Ministry of Housing  \n",
       "3  Ministry of Housing  \n",
       "4  Ministry of Housing  "
      ]
     },
     "execution_count": 12,
     "metadata": {},
     "output_type": "execute_result"
    }
   ],
   "source": [
    "merged_data.head()"
   ]
  },
  {
   "cell_type": "markdown",
   "metadata": {},
   "source": [
    "Here we notice that the 'Month' values need to be transformed to a proper date format, so we save the file and use microsoft excel to do the transformation"
   ]
  },
  {
   "cell_type": "code",
   "execution_count": 13,
   "metadata": {},
   "outputs": [],
   "source": [
    "merged_data.to_csv('merged_data.csv', index=None)"
   ]
  },
  {
   "cell_type": "markdown",
   "metadata": {},
   "source": [
    "After applying the trasformation, we read the transformed file:"
   ]
  },
  {
   "cell_type": "code",
   "execution_count": 14,
   "metadata": {},
   "outputs": [],
   "source": [
    "merged_data=pd.read_csv('merged_data.csv')"
   ]
  },
  {
   "cell_type": "code",
   "execution_count": 15,
   "metadata": {},
   "outputs": [
    {
     "data": {
      "text/html": [
       "<div>\n",
       "<style scoped>\n",
       "    .dataframe tbody tr th:only-of-type {\n",
       "        vertical-align: middle;\n",
       "    }\n",
       "\n",
       "    .dataframe tbody tr th {\n",
       "        vertical-align: top;\n",
       "    }\n",
       "\n",
       "    .dataframe thead th {\n",
       "        text-align: right;\n",
       "    }\n",
       "</style>\n",
       "<table border=\"1\" class=\"dataframe\">\n",
       "  <thead>\n",
       "    <tr style=\"text-align: right;\">\n",
       "      <th></th>\n",
       "      <th>Expense Code</th>\n",
       "      <th>Expense Amount (SAR)</th>\n",
       "      <th>Month</th>\n",
       "      <th>Expense Quantity</th>\n",
       "      <th>Government Entity</th>\n",
       "    </tr>\n",
       "  </thead>\n",
       "  <tbody>\n",
       "    <tr>\n",
       "      <th>0</th>\n",
       "      <td>10532</td>\n",
       "      <td>4.46</td>\n",
       "      <td>4/1/2017</td>\n",
       "      <td>15216</td>\n",
       "      <td>Ministry of Housing</td>\n",
       "    </tr>\n",
       "    <tr>\n",
       "      <th>1</th>\n",
       "      <td>10532</td>\n",
       "      <td>4.46</td>\n",
       "      <td>6/1/2017</td>\n",
       "      <td>5706</td>\n",
       "      <td>Ministry of Housing</td>\n",
       "    </tr>\n",
       "    <tr>\n",
       "      <th>2</th>\n",
       "      <td>10532</td>\n",
       "      <td>4.46</td>\n",
       "      <td>12/1/2017</td>\n",
       "      <td>6340</td>\n",
       "      <td>Ministry of Housing</td>\n",
       "    </tr>\n",
       "    <tr>\n",
       "      <th>3</th>\n",
       "      <td>10532</td>\n",
       "      <td>4.46</td>\n",
       "      <td>10/1/2017</td>\n",
       "      <td>13314</td>\n",
       "      <td>Ministry of Housing</td>\n",
       "    </tr>\n",
       "    <tr>\n",
       "      <th>4</th>\n",
       "      <td>10532</td>\n",
       "      <td>4.46</td>\n",
       "      <td>4/1/2018</td>\n",
       "      <td>5072</td>\n",
       "      <td>Ministry of Housing</td>\n",
       "    </tr>\n",
       "  </tbody>\n",
       "</table>\n",
       "</div>"
      ],
      "text/plain": [
       "   Expense Code  Expense Amount (SAR)      Month Expense Quantity  \\\n",
       "0         10532                  4.46   4/1/2017            15216   \n",
       "1         10532                  4.46   6/1/2017             5706   \n",
       "2         10532                  4.46  12/1/2017             6340   \n",
       "3         10532                  4.46  10/1/2017            13314   \n",
       "4         10532                  4.46   4/1/2018             5072   \n",
       "\n",
       "     Government Entity  \n",
       "0  Ministry of Housing  \n",
       "1  Ministry of Housing  \n",
       "2  Ministry of Housing  \n",
       "3  Ministry of Housing  \n",
       "4  Ministry of Housing  "
      ]
     },
     "execution_count": 15,
     "metadata": {},
     "output_type": "execute_result"
    }
   ],
   "source": [
    "merged_data.head()"
   ]
  },
  {
   "cell_type": "code",
   "execution_count": 16,
   "metadata": {},
   "outputs": [
    {
     "data": {
      "text/plain": [
       "17085"
      ]
     },
     "execution_count": 16,
     "metadata": {},
     "output_type": "execute_result"
    }
   ],
   "source": [
    "len(merged_data)"
   ]
  },
  {
   "cell_type": "markdown",
   "metadata": {},
   "source": [
    "The dataset contains 17085 record"
   ]
  },
  {
   "cell_type": "markdown",
   "metadata": {},
   "source": [
    "Now, let's analyze this dataset and look at the values in each columns to make sure it has no issues."
   ]
  },
  {
   "cell_type": "code",
   "execution_count": 17,
   "metadata": {},
   "outputs": [
    {
     "data": {
      "text/plain": [
       "12565    56\n",
       "2470     35\n",
       "45       35\n",
       "2757     35\n",
       "566      33\n",
       "Name: Expense Code, dtype: int64"
      ]
     },
     "execution_count": 17,
     "metadata": {},
     "output_type": "execute_result"
    }
   ],
   "source": [
    "merged_data['Expense Code'].value_counts().head()"
   ]
  },
  {
   "cell_type": "markdown",
   "metadata": {},
   "source": [
    "These are the top values in the \"Expense Code\" column. Now, let's make sure that this code is numeric and follows the standard."
   ]
  },
  {
   "cell_type": "code",
   "execution_count": 18,
   "metadata": {},
   "outputs": [],
   "source": [
    "merged_data['Expense Code']=merged_data['Expense Code'].astype(int)"
   ]
  },
  {
   "cell_type": "markdown",
   "metadata": {},
   "source": [
    "all good, let's see \"Expense Amount (SAR)\" column"
   ]
  },
  {
   "cell_type": "code",
   "execution_count": 19,
   "metadata": {},
   "outputs": [
    {
     "data": {
      "text/plain": [
       "count    17085.000000\n",
       "mean         5.590861\n",
       "std          2.940233\n",
       "min          0.010000\n",
       "25%          3.060000\n",
       "50%          5.670000\n",
       "75%          8.060000\n",
       "max         10.990000\n",
       "Name: Expense Amount (SAR), dtype: float64"
      ]
     },
     "execution_count": 19,
     "metadata": {},
     "output_type": "execute_result"
    }
   ],
   "source": [
    "merged_data['Expense Amount (SAR)'].describe()"
   ]
  },
  {
   "cell_type": "markdown",
   "metadata": {},
   "source": [
    "we used describe() to see the distribution of data and make sure they are numeric and no missing values"
   ]
  },
  {
   "cell_type": "markdown",
   "metadata": {},
   "source": [
    "all good, let's see \"Month\" column and make sure no missing values"
   ]
  },
  {
   "cell_type": "code",
   "execution_count": 20,
   "metadata": {},
   "outputs": [
    {
     "data": {
      "text/html": [
       "<div>\n",
       "<style scoped>\n",
       "    .dataframe tbody tr th:only-of-type {\n",
       "        vertical-align: middle;\n",
       "    }\n",
       "\n",
       "    .dataframe tbody tr th {\n",
       "        vertical-align: top;\n",
       "    }\n",
       "\n",
       "    .dataframe thead th {\n",
       "        text-align: right;\n",
       "    }\n",
       "</style>\n",
       "<table border=\"1\" class=\"dataframe\">\n",
       "  <thead>\n",
       "    <tr style=\"text-align: right;\">\n",
       "      <th></th>\n",
       "      <th>Expense Code</th>\n",
       "      <th>Expense Amount (SAR)</th>\n",
       "      <th>Month</th>\n",
       "      <th>Expense Quantity</th>\n",
       "      <th>Government Entity</th>\n",
       "    </tr>\n",
       "  </thead>\n",
       "  <tbody>\n",
       "  </tbody>\n",
       "</table>\n",
       "</div>"
      ],
      "text/plain": [
       "Empty DataFrame\n",
       "Columns: [Expense Code, Expense Amount (SAR), Month, Expense Quantity, Government Entity]\n",
       "Index: []"
      ]
     },
     "execution_count": 20,
     "metadata": {},
     "output_type": "execute_result"
    }
   ],
   "source": [
    "merged_data[merged_data['Month'].isnull()]"
   ]
  },
  {
   "cell_type": "code",
   "execution_count": 21,
   "metadata": {},
   "outputs": [
    {
     "data": {
      "text/plain": [
       "6/1/2017       1445\n",
       "2/1/2018       1382\n",
       "9/1/2017       1366\n",
       "7/1/2017       1359\n",
       "12/1/2017      1320\n",
       "8/1/2017       1286\n",
       "11/1/2017      1279\n",
       "5/1/2018       1278\n",
       "1/1/2018       1207\n",
       "3/1/2018       1063\n",
       "10/1/2017      1054\n",
       "5/1/2017       1051\n",
       "4/1/2017        997\n",
       "4/1/2018        996\n",
       "8/1/2017000       1\n",
       "9/1/2017000       1\n",
       "Name: Month, dtype: int64"
      ]
     },
     "execution_count": 21,
     "metadata": {},
     "output_type": "execute_result"
    }
   ],
   "source": [
    "merged_data['Month'].value_counts()"
   ]
  },
  {
   "cell_type": "markdown",
   "metadata": {},
   "source": [
    "As can be seen from the above results we have two incorrect dates '9/1/2017000' and '8/1/2017000', we need to transform them to the correct format."
   ]
  },
  {
   "cell_type": "code",
   "execution_count": 22,
   "metadata": {},
   "outputs": [],
   "source": [
    "merged_data['Month']=merged_data['Month'].replace('9/1/2017000','9/1/2017')\n",
    "merged_data['Month']=merged_data['Month'].replace('8/1/2017000','8/1/2017')"
   ]
  },
  {
   "cell_type": "markdown",
   "metadata": {},
   "source": [
    "now, let's convert the type to datetime"
   ]
  },
  {
   "cell_type": "code",
   "execution_count": 23,
   "metadata": {},
   "outputs": [],
   "source": [
    "merged_data['Month']=pd.to_datetime(merged_data['Month'])"
   ]
  },
  {
   "cell_type": "markdown",
   "metadata": {},
   "source": [
    "all good, lets see Expense Quantity"
   ]
  },
  {
   "cell_type": "code",
   "execution_count": 24,
   "metadata": {},
   "outputs": [
    {
     "data": {
      "text/plain": [
       "count     17083\n",
       "unique     4389\n",
       "top         120\n",
       "freq        115\n",
       "Name: Expense Quantity, dtype: object"
      ]
     },
     "execution_count": 24,
     "metadata": {},
     "output_type": "execute_result"
    }
   ],
   "source": [
    "merged_data['Expense Quantity'].describe()"
   ]
  },
  {
   "cell_type": "markdown",
   "metadata": {},
   "source": [
    "we see a missing values here. since there are a few records we can drop them. other solution is to replace them with the average maybe or use a model to predict their values.."
   ]
  },
  {
   "cell_type": "code",
   "execution_count": 25,
   "metadata": {},
   "outputs": [],
   "source": [
    "merged_data=merged_data[merged_data['Expense Quantity'].notnull()]"
   ]
  },
  {
   "cell_type": "markdown",
   "metadata": {},
   "source": [
    "now let's make sure that all values are numeric"
   ]
  },
  {
   "cell_type": "code",
   "execution_count": 26,
   "metadata": {},
   "outputs": [
    {
     "data": {
      "text/plain": [
       "False"
      ]
     },
     "execution_count": 26,
     "metadata": {},
     "output_type": "execute_result"
    }
   ],
   "source": [
    "all (str(s).replace('.','').isdigit() for s in merged_data['Expense Quantity'])"
   ]
  },
  {
   "cell_type": "markdown",
   "metadata": {},
   "source": [
    "it seems that this columns contains non numeric values, let's check"
   ]
  },
  {
   "cell_type": "code",
   "execution_count": 27,
   "metadata": {},
   "outputs": [
    {
     "name": "stdout",
     "output_type": "stream",
     "text": [
      "-23454\n",
      "xxx\n",
      "-3432\n",
      "xxx\n",
      "-560\n"
     ]
    }
   ],
   "source": [
    "for s in merged_data['Expense Quantity']:\n",
    "    if(not str(s).replace('.','').isdigit()):\n",
    "        print(s)\n",
    "    "
   ]
  },
  {
   "cell_type": "markdown",
   "metadata": {},
   "source": [
    "here we see a negative values and 'xxx', we will assume that the negative values is just an entry error and we will remove the negative sign. and we will drop records with 'xxx' values.."
   ]
  },
  {
   "cell_type": "code",
   "execution_count": 28,
   "metadata": {},
   "outputs": [],
   "source": [
    "merged_data['Expense Quantity']=merged_data['Expense Quantity'].replace('-23454','23454')\n",
    "merged_data['Expense Quantity']=merged_data['Expense Quantity'].replace('-3432','3432')\n",
    "merged_data['Expense Quantity']=merged_data['Expense Quantity'].replace('-560','560')"
   ]
  },
  {
   "cell_type": "code",
   "execution_count": 29,
   "metadata": {},
   "outputs": [],
   "source": [
    "merged_data=merged_data[merged_data['Expense Quantity']!='xxx']"
   ]
  },
  {
   "cell_type": "code",
   "execution_count": 30,
   "metadata": {},
   "outputs": [],
   "source": [
    "merged_data['Expense Quantity']=merged_data['Expense Quantity'].astype(float)"
   ]
  },
  {
   "cell_type": "code",
   "execution_count": 31,
   "metadata": {},
   "outputs": [
    {
     "data": {
      "text/plain": [
       "count    1.708100e+04\n",
       "mean     1.117629e+04\n",
       "std      1.580491e+05\n",
       "min      1.000000e+00\n",
       "25%      2.460000e+02\n",
       "50%      9.450000e+02\n",
       "75%      3.520000e+03\n",
       "max      1.096966e+07\n",
       "Name: Expense Quantity, dtype: float64"
      ]
     },
     "execution_count": 31,
     "metadata": {},
     "output_type": "execute_result"
    }
   ],
   "source": [
    "merged_data['Expense Quantity'].describe()"
   ]
  },
  {
   "cell_type": "code",
   "execution_count": 32,
   "metadata": {},
   "outputs": [
    {
     "data": {
      "text/plain": [
       "<matplotlib.axes._subplots.AxesSubplot at 0x1c98a65bba8>"
      ]
     },
     "execution_count": 32,
     "metadata": {},
     "output_type": "execute_result"
    },
    {
     "data": {
      "image/png": "[encoded data removed]",
      "text/plain": [
       "<Figure size 432x288 with 1 Axes>"
      ]
     },
     "metadata": {
      "needs_background": "light"
     },
     "output_type": "display_data"
    }
   ],
   "source": [
    "plt.ticklabel_format(style='plain', axis='y')\n",
    "merged_data['Expense Quantity'].plot()"
   ]
  },
  {
   "cell_type": "markdown",
   "metadata": {},
   "source": [
    "there might be an outliars here, we can detect them mathematically using z-score for example and it is \"the signed number of standard deviations by which the value of an observation or data point is above the mean value of what is being observed or measured.\" but here we choose not to and we assume all values are correct and important."
   ]
  },
  {
   "cell_type": "markdown",
   "metadata": {},
   "source": [
    "all good now, let's move to 'Government Entity' column and see how many record for each gov entity"
   ]
  },
  {
   "cell_type": "code",
   "execution_count": 33,
   "metadata": {},
   "outputs": [
    {
     "data": {
      "text/plain": [
       "<matplotlib.axes._subplots.AxesSubplot at 0x1c98a600b38>"
      ]
     },
     "execution_count": 33,
     "metadata": {},
     "output_type": "execute_result"
    },
    {
     "data": {
      "image/png": "[encoded data removed]",
      "text/plain": [
       "<Figure size 432x288 with 1 Axes>"
      ]
     },
     "metadata": {
      "needs_background": "light"
     },
     "output_type": "display_data"
    }
   ],
   "source": [
    "merged_data['Government Entity'].value_counts().plot(kind='bar')"
   ]
  },
  {
   "cell_type": "markdown",
   "metadata": {},
   "source": [
    "## Q2: "
   ]
  },
  {
   "cell_type": "code",
   "execution_count": 34,
   "metadata": {},
   "outputs": [],
   "source": [
    "# to get 2017 data\n",
    "merged_data_2017=merged_data[(merged_data['Month']>='2017') & (merged_data['Month']<'2018')]"
   ]
  },
  {
   "cell_type": "code",
   "execution_count": 35,
   "metadata": {},
   "outputs": [],
   "source": [
    "# group by and take the sum of quantity in each month in 2017\n",
    "merged_data_2017_grouped=merged_data_2017.groupby('Month').agg({'Expense Quantity':'sum'}).reset_index()"
   ]
  },
  {
   "cell_type": "code",
   "execution_count": 36,
   "metadata": {},
   "outputs": [
    {
     "data": {
      "text/plain": [
       "<matplotlib.axes._subplots.AxesSubplot at 0x1c98c56f4a8>"
      ]
     },
     "execution_count": 36,
     "metadata": {},
     "output_type": "execute_result"
    },
    {
     "data": {
      "image/png": "[encoded data removed]",
      "text/plain": [
       "<Figure size 1080x360 with 1 Axes>"
      ]
     },
     "metadata": {
      "needs_background": "light"
     },
     "output_type": "display_data"
    }
   ],
   "source": [
    "import seaborn as sns\n",
    "fig, ax1 = plt.subplots(figsize=(15,5))\n",
    "plt.ticklabel_format(style='plain', axis='y')\n",
    "sns.lineplot(x='Month',y='Expense Quantity', data=merged_data_2017_grouped, marker='d')"
   ]
  },
  {
   "cell_type": "markdown",
   "metadata": {},
   "source": [
    "Now let's see the trend by gov entity ..."
   ]
  },
  {
   "cell_type": "code",
   "execution_count": 37,
   "metadata": {},
   "outputs": [],
   "source": [
    "d=merged_data_2017.groupby(['Month','Government Entity']).agg({'Expense Quantity':'sum'}).reset_index()"
   ]
  },
  {
   "cell_type": "code",
   "execution_count": 38,
   "metadata": {},
   "outputs": [
    {
     "data": {
      "text/plain": [
       "<matplotlib.axes._subplots.AxesSubplot at 0x1c98a873748>"
      ]
     },
     "execution_count": 38,
     "metadata": {},
     "output_type": "execute_result"
    },
    {
     "data": {
      "image/png": "[encoded data removed]",
      "text/plain": [
       "<Figure size 1080x360 with 1 Axes>"
      ]
     },
     "metadata": {
      "needs_background": "light"
     },
     "output_type": "display_data"
    }
   ],
   "source": [
    "fig, ax1 = plt.subplots(figsize=(15,5))\n",
    "plt.ticklabel_format(style='plain', axis='y')\n",
    "sns.lineplot(x='Month',y='Expense Quantity', data=d, hue='Government Entity', marker='d')"
   ]
  },
  {
   "cell_type": "code",
   "execution_count": null,
   "metadata": {},
   "outputs": [],
   "source": []
  },
  {
   "cell_type": "markdown",
   "metadata": {},
   "source": [
    "## Q3: "
   ]
  },
  {
   "cell_type": "markdown",
   "metadata": {},
   "source": [
    "here we assume that the total value of how much spent is Expense Amount (SAR) * Expense Quantity. Since we have already merged the two datasets it is straightforward.."
   ]
  },
  {
   "cell_type": "code",
   "execution_count": 39,
   "metadata": {},
   "outputs": [],
   "source": [
    "merged_data['Total Expense']=merged_data['Expense Amount (SAR)'] * merged_data['Expense Quantity']"
   ]
  },
  {
   "cell_type": "code",
   "execution_count": 40,
   "metadata": {},
   "outputs": [],
   "source": [
    "q3=merged_data.groupby('Government Entity').agg({'Total Expense':'sum'}).reset_index()"
   ]
  },
  {
   "cell_type": "code",
   "execution_count": 41,
   "metadata": {},
   "outputs": [
    {
     "data": {
      "text/plain": [
       "Text(0,0.5,'Total Expense (SAR)')"
      ]
     },
     "execution_count": 41,
     "metadata": {},
     "output_type": "execute_result"
    },
    {
     "data": {
      "image/png": "[encoded data removed]",
      "text/plain": [
       "<Figure size 1080x576 with 1 Axes>"
      ]
     },
     "metadata": {
      "needs_background": "light"
     },
     "output_type": "display_data"
    }
   ],
   "source": [
    "fig, ax1 = plt.subplots(figsize=(15,8))\n",
    "plt.ticklabel_format(style='plain', axis='y')\n",
    "sns.barplot(x='Government Entity',y='Total Expense', data=q3)\n",
    "plt.ylabel('Total Expense (SAR)')"
   ]
  },
  {
   "cell_type": "code",
   "execution_count": null,
   "metadata": {},
   "outputs": [],
   "source": []
  },
  {
   "cell_type": "markdown",
   "metadata": {},
   "source": [
    "## Q4:"
   ]
  },
  {
   "cell_type": "markdown",
   "metadata": {},
   "source": [
    "I would intergrate this dataset with some other datasets to better understand the behaviour of demand. For example, I would merge it with the year calendar (start/end of school seasons for example) to capture patterns in the ministry of education demand. also hospital and medical center visits and check for corrolations with ministry of health deman. And so many other datasets."
   ]
  },
  {
   "cell_type": "code",
   "execution_count": null,
   "metadata": {},
   "outputs": [],
   "source": []
  },
  {
   "cell_type": "markdown",
   "metadata": {},
   "source": [
    "## Q5:"
   ]
  },
  {
   "cell_type": "markdown",
   "metadata": {},
   "source": [
    "Four main county's financial indicator have been selected:\n",
    "1- GDP  per capita\n",
    "2- Goods Export\n",
    "3- Goods Import\n",
    "4- Capital Account\n",
    "\n",
    "these datasets have been collected from  https://www.worldbank.org/"
   ]
  },
  {
   "cell_type": "markdown",
   "metadata": {},
   "source": [
    "### GDP per capita"
   ]
  },
  {
   "cell_type": "code",
   "execution_count": 42,
   "metadata": {},
   "outputs": [
    {
     "data": {
      "text/plain": [
       "Text(0,0.5,'GDP (US $)')"
      ]
     },
     "execution_count": 42,
     "metadata": {},
     "output_type": "execute_result"
    },
    {
     "data": {
      "image/png": "[encoded data removed]",
      "text/plain": [
       "<Figure size 1080x360 with 1 Axes>"
      ]
     },
     "metadata": {
      "needs_background": "light"
     },
     "output_type": "display_data"
    }
   ],
   "source": [
    "GDP=pd.read_excel('API_NY.GDP.PCAP.CD_DS2_en_excel_v2_713319.xls', skiprows=3)\n",
    "\n",
    "GDP=GDP[GDP['Country Name']=='Saudi Arabia'].reset_index()\n",
    "\n",
    "GDP=GDP.T.reset_index()[5:]\n",
    "\n",
    "GDP.columns=['Year','GDP']\n",
    "\n",
    "GDP=GDP.dropna()\n",
    "\n",
    "GDP['GDP']=GDP['GDP'].astype(float)\n",
    "GDP['Year']=GDP['Year'].astype(int)\n",
    "\n",
    "\n",
    "fig, ax1 = plt.subplots(figsize=(15,5))\n",
    "plt.ticklabel_format(style='plain', axis='y')\n",
    "sns.lineplot(x='Year',y='GDP', data=GDP, marker='d')\n",
    "plt.ylabel('GDP (US $)')"
   ]
  },
  {
   "cell_type": "markdown",
   "metadata": {},
   "source": [
    "### GOODS EXPORT"
   ]
  },
  {
   "cell_type": "code",
   "execution_count": 43,
   "metadata": {},
   "outputs": [
    {
     "data": {
      "text/plain": [
       "Text(0,0.5,'Goods Export (US $)')"
      ]
     },
     "execution_count": 43,
     "metadata": {},
     "output_type": "execute_result"
    },
    {
     "data": {
      "image/png": "[encoded data removed]",
      "text/plain": [
       "<Figure size 1080x360 with 1 Axes>"
      ]
     },
     "metadata": {
      "needs_background": "light"
     },
     "output_type": "display_data"
    }
   ],
   "source": [
    "GOODS_EXPORT=pd.read_excel('API_BX.GSR.MRCH.CD_DS2_en_excel_v2_720333.xls', skiprows=3)\n",
    "\n",
    "GOODS_EXPORT=GOODS_EXPORT[GOODS_EXPORT['Country Name']=='Saudi Arabia'].reset_index()\n",
    "\n",
    "GOODS_EXPORT=GOODS_EXPORT.T.reset_index()[5:]\n",
    "\n",
    "GOODS_EXPORT.columns=['Year','GOODS_EXPORT']\n",
    "\n",
    "GOODS_EXPORT=GOODS_EXPORT.dropna()\n",
    "\n",
    "GOODS_EXPORT['GOODS_EXPORT']=GOODS_EXPORT['GOODS_EXPORT'].astype(float)\n",
    "GOODS_EXPORT['Year']=GOODS_EXPORT['Year'].astype(int)\n",
    "\n",
    "\n",
    "fig, ax1 = plt.subplots(figsize=(15,5))\n",
    "plt.ticklabel_format(style='plain', axis='y')\n",
    "sns.lineplot(x='Year',y='GOODS_EXPORT', data=GOODS_EXPORT, marker='d')\n",
    "plt.ylabel('Goods Export (US $)')"
   ]
  },
  {
   "cell_type": "markdown",
   "metadata": {},
   "source": [
    "### GOODS IMPORT"
   ]
  },
  {
   "cell_type": "code",
   "execution_count": 44,
   "metadata": {},
   "outputs": [
    {
     "data": {
      "text/plain": [
       "Text(0,0.5,'Goods Imports (US $)')"
      ]
     },
     "execution_count": 44,
     "metadata": {},
     "output_type": "execute_result"
    },
    {
     "data": {
      "image/png": "[encoded data removed]",
      "text/plain": [
       "<Figure size 1080x360 with 1 Axes>"
      ]
     },
     "metadata": {
      "needs_background": "light"
     },
     "output_type": "display_data"
    }
   ],
   "source": [
    "GOODS_IMPORT=pd.read_excel('API_BM.GSR.MRCH.CD_DS2_en_excel_v2_747180.xls', skiprows=3)\n",
    "\n",
    "GOODS_IMPORT=GOODS_IMPORT[GOODS_IMPORT['Country Name']=='Saudi Arabia'].reset_index()\n",
    "\n",
    "GOODS_IMPORT=GOODS_IMPORT.T.reset_index()[5:]\n",
    "\n",
    "GOODS_IMPORT.columns=['Year','GOODS_IMPORT']\n",
    "\n",
    "GOODS_IMPORT=GOODS_IMPORT.dropna()\n",
    "\n",
    "GOODS_IMPORT['GOODS_IMPORT']=GOODS_IMPORT['GOODS_IMPORT'].astype(float)\n",
    "GOODS_IMPORT['Year']=GOODS_IMPORT['Year'].astype(int)\n",
    "\n",
    "\n",
    "fig, ax1 = plt.subplots(figsize=(15,5))\n",
    "plt.ticklabel_format(style='plain', axis='y')\n",
    "sns.lineplot(x='Year',y='GOODS_IMPORT', data=GOODS_IMPORT, marker='d')\n",
    "plt.ylabel('Goods Imports (US $)')"
   ]
  },
  {
   "cell_type": "markdown",
   "metadata": {},
   "source": [
    "### capital account"
   ]
  },
  {
   "cell_type": "code",
   "execution_count": 45,
   "metadata": {},
   "outputs": [
    {
     "data": {
      "text/plain": [
       "Text(0,0.5,'capital account (US $)')"
      ]
     },
     "execution_count": 45,
     "metadata": {},
     "output_type": "execute_result"
    },
    {
     "data": {
      "image/png": "[encoded data removed]",
      "text/plain": [
       "<Figure size 1080x360 with 1 Axes>"
      ]
     },
     "metadata": {
      "needs_background": "light"
     },
     "output_type": "display_data"
    }
   ],
   "source": [
    "capital_account=pd.read_excel('API_BN.TRF.KOGT.CD_DS2_en_excel_v2_717414.xls', skiprows=3)\n",
    "\n",
    "capital_account=capital_account[capital_account['Country Name']=='Saudi Arabia'].reset_index()\n",
    "\n",
    "capital_account=capital_account.T.reset_index()[5:]\n",
    "\n",
    "capital_account.columns=['Year','capital_account']\n",
    "\n",
    "capital_account=capital_account.dropna()\n",
    "\n",
    "capital_account['capital_account']=capital_account['capital_account'].astype(float)\n",
    "capital_account['Year']=capital_account['Year'].astype(int)\n",
    "\n",
    "\n",
    "fig, ax1 = plt.subplots(figsize=(15,5))\n",
    "plt.ticklabel_format(style='plain', axis='y')\n",
    "sns.lineplot(x='Year',y='capital_account', data=capital_account, marker='d')\n",
    "plt.ylabel('capital account (US $)')"
   ]
  },
  {
   "cell_type": "markdown",
   "metadata": {},
   "source": [
    "# The End\n",
    "-Riyadh Alnasser"
   ]
  }
 ],
 "metadata": {
  "kernelspec": {
   "display_name": "Python 3",
   "language": "python",
   "name": "python3"
  },
  "language_info": {
   "codemirror_mode": {
    "name": "ipython",
    "version": 3
   },
   "file_extension": ".py",
   "mimetype": "text/x-python",
   "name": "python",
   "nbconvert_exporter": "python",
   "pygments_lexer": "ipython3",
   "version": "3.7.0"
  }
 },
 "nbformat": 4,
 "nbformat_minor": 2
}
